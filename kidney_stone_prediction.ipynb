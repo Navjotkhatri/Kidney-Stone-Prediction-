{
  "nbformat": 4,
  "nbformat_minor": 0,
  "metadata": {
    "colab": {
      "provenance": [],
      "authorship_tag": "ABX9TyP6tjgIGIzU572PkY/CuSF7",
      "include_colab_link": true
    },
    "kernelspec": {
      "name": "python3",
      "display_name": "Python 3"
    },
    "language_info": {
      "name": "python"
    }
  },
  "cells": [
    {
      "cell_type": "markdown",
      "metadata": {
        "id": "view-in-github",
        "colab_type": "text"
      },
      "source": [
        "<a href=\"https://colab.research.google.com/github/Navjotkhatri/Kidney-Stone-Prediction-/blob/main/kidney_stone_prediction.ipynb\" target=\"_parent\"><img src=\"https://colab.research.google.com/assets/colab-badge.svg\" alt=\"Open In Colab\"/></a>"
      ]
    },
    {
      "cell_type": "markdown",
      "source": [
        "# **Kidney Stone Prediction**"
      ],
      "metadata": {
        "id": "jCaxpIfWlNAr"
      }
    },
    {
      "cell_type": "markdown",
      "source": [
        "The kidney-stone-dataset.csv is a comma-separated values file containing data on patients with kidney stones. The file has 255 rows and 21 columns, with each row representing a patient and each column providing information on various characteristics and laboratory test results. The dataset also includes a target variable, \"Risk of Stone\", which is a continuous variable representing the risk of developing kidney stones. This dataset can be used for tasks such as predicting the risk of kidney stones based on patient characteristics and test results."
      ],
      "metadata": {
        "id": "uYr0LVysk0Qa"
      }
    },
    {
      "cell_type": "markdown",
      "source": [
        "This kidney stone dataset contains 12 features related to the risk of developing kidney stones, including age, gender, weight, height, family history, and various blood and urine measurements. The dataset includes 180 records, and the target variable is a continuous value representing the risk of developing kidney stones. The dataset is useful for building predictive models to identify individuals at high risk for kidney stones, which can aid in the development of prevention and treatment strategies"
      ],
      "metadata": {
        "id": "SlXsjPrDk5DH"
      }
    },
    {
      "cell_type": "markdown",
      "source": [
        "The kidney-stone-dataset.csv is a dataset containing information on 255 patients with kidney stones, including characteristics such as age, gender, and stone type, as well as laboratory test results. The dataset also includes a target variable, \"Risk of Stone\", which is a continuous variable representing the risk of developing kidney stones. This dataset can be used for tasks such as predicting the risk of kidney stones based on patient characteristics and test results.\n",
        "\n"
      ],
      "metadata": {
        "id": "UhwOKDwkk7zz"
      }
    }
  ]
}